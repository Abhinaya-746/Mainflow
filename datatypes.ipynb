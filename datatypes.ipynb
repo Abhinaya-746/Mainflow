{
 "cells": [
  {
   "cell_type": "code",
   "execution_count": 4,
   "id": "fe59af41",
   "metadata": {},
   "outputs": [
    {
     "name": "stdout",
     "output_type": "stream",
     "text": [
      "List: [5, 2, 4, 7]\n",
      "Dictionary: {'Name': 'Panda', 'game': 'Handball', 'Friend': 'Sai'}\n",
      "Set: {1, 2, 4, 5, 6}\n"
     ]
    }
   ],
   "source": [
    "# Create a list\n",
    "my_list = [1, 2, 3, 4,]\n",
    "\n",
    "# Add an element to the list\n",
    "my_list.append(7)\n",
    "\n",
    "# Remove an element from the list\n",
    "my_list.remove(3)\n",
    "\n",
    "# Modify an element in the list\n",
    "my_list[0] = 5\n",
    "\n",
    "print(\"List:\",my_list)\n",
    "\n",
    "# Create a dictionary\n",
    "my_dict = {'Name': 'Abhi', 'Class': 'B.Tech', 'game': 'Handball'}\n",
    "\n",
    "# Add a key-value pair to the dictionary\n",
    "my_dict['Friend'] = 'Sai'\n",
    "\n",
    "# Remove a key-value pair from the dictionary\n",
    "del my_dict['Class']\n",
    "\n",
    "# Modify a value in the dictionary\n",
    "my_dict['Name'] = 'Panda'\n",
    "\n",
    "print(\"Dictionary:\",my_dict)\n",
    "\n",
    "# Create a set\n",
    "my_set = {1, 2, 3, 4, 5}\n",
    "\n",
    "# Add an element to the set\n",
    "my_set.add(6)\n",
    "\n",
    "# Remove an element from the set\n",
    "my_set.remove(3)\n",
    "\n",
    "print(\"Set:\",my_set) "
   ]
  },
  {
   "cell_type": "code",
   "execution_count": null,
   "id": "60081a40",
   "metadata": {},
   "outputs": [],
   "source": []
  }
 ],
 "metadata": {
  "kernelspec": {
   "display_name": "Python 3 (ipykernel)",
   "language": "python",
   "name": "python3"
  },
  "language_info": {
   "codemirror_mode": {
    "name": "ipython",
    "version": 3
   },
   "file_extension": ".py",
   "mimetype": "text/x-python",
   "name": "python",
   "nbconvert_exporter": "python",
   "pygments_lexer": "ipython3",
   "version": "3.10.12"
  }
 },
 "nbformat": 4,
 "nbformat_minor": 5
}
